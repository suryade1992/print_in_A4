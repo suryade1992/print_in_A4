{
 "cells": [
  {
   "cell_type": "markdown",
   "metadata": {},
   "source": [
    "# Break picture into multiple parts for printing (with optional common margin)"
   ]
  },
  {
   "cell_type": "code",
   "execution_count": 1,
   "metadata": {
    "collapsed": false
   },
   "outputs": [],
   "source": [
    "import math\n",
    "import matplotlib.pyplot as plt\n",
    "import matplotlib.image as mpimg\n",
    "import numpy as np\n",
    "%matplotlib inline\n",
    "\n",
    "def create_sub_pic(img,no_of_sub_pics,margin=0.01,save_sub_parts=False): #takes a picture to break it into sub parts with margins\n",
    "    global j\n",
    "    h,l,d=img.shape\n",
    "    if math.log(no_of_sub_pics,2)%2 == 0:\n",
    "        if no_of_sub_pics != 1:\n",
    "            h = int(h//2+round(margin*h,0))\n",
    "            l = int(l//2+round(margin*l,0))\n",
    "            create_sub_pic(img[:h,:l,:],no_of_sub_pics//4,save_sub_parts=save_sub_parts)\n",
    "            create_sub_pic(img[:h,-l:,:],no_of_sub_pics//4,save_sub_parts=save_sub_parts)\n",
    "            create_sub_pic(img[-h:,:l,:],no_of_sub_pics//4,save_sub_parts=save_sub_parts)\n",
    "            create_sub_pic(img[-h:,-l:,:],no_of_sub_pics//4,save_sub_parts=save_sub_parts)\n",
    "        else:\n",
    "            if save_sub_parts:\n",
    "                mpimg.imsave(output_path+img_name+'_part'+str(j+1)+'.jpg',img)\n",
    "            else:\n",
    "                if j+1==8:\n",
    "                    print('Sub pic shape:',img.shape)\n",
    "                    plt.imshow(img)\n",
    "            j+=1\n",
    "            \n",
    "    else:\n",
    "        if h > l: #break the picture on the longer axis\n",
    "            h = int(h//2+int(margin*h))\n",
    "            create_sub_pic(img[:h,:,:],no_of_sub_pics//2,save_sub_parts=save_sub_parts)\n",
    "            create_sub_pic(img[-h:,:,:],no_of_sub_pics//2,save_sub_parts=save_sub_parts)\n",
    "        else:\n",
    "            l = int(l//2+int(margin*l))\n",
    "            create_sub_pic(img[:,:l,:],no_of_sub_pics//2,save_sub_parts=save_sub_parts)\n",
    "            create_sub_pic(img[:,-l:,:],no_of_sub_pics//2,save_sub_parts=save_sub_parts)"
   ]
  },
  {
   "cell_type": "code",
   "execution_count": 2,
   "metadata": {
    "collapsed": false
   },
   "outputs": [
    {
     "name": "stdout",
     "output_type": "stream",
     "text": [
      " Volume in drive C has no label.\n",
      " Volume Serial Number is 5C53-8C7E\n",
      "\n",
      " Directory of C:\\Users\\Surya\\Pictures\\GitHub\\print_in_A4\\WallPoster\n",
      "\n",
      "11/14/2018  09:29 AM    <DIR>          .\n",
      "11/14/2018  09:29 AM    <DIR>          ..\n",
      "10/21/2018  11:14 PM           200,729 2%midset 2.jpg\n",
      "11/14/2018  09:29 AM           617,701 7 habits.jpg\n",
      "10/21/2018  11:38 PM            53,842 Boxer Stamina.jpg\n",
      "10/22/2018  10:58 AM         1,036,340 Color Wheel.jpg\n",
      "10/21/2018  11:43 PM            22,130 Eye exercise.jpg\n",
      "09/18/2018  09:32 AM           288,115 HB.jpg\n",
      "10/21/2018  11:11 PM         3,871,992 Learn Create Sleep.jpg\n",
      "10/21/2018  11:30 PM            61,354 Morning Workout.jpg\n",
      "09/18/2018  09:28 AM         2,640,016 TD.png\n",
      "09/17/2018  10:57 PM            88,565 The cove.jpg\n",
      "10/22/2018  11:00 AM    <DIR>          ToPrint\n",
      "              10 File(s)      8,880,784 bytes\n",
      "               3 Dir(s)  15,723,008,000 bytes free\n"
     ]
    }
   ],
   "source": [
    "# !dir C:\\Users\\Surya\\Pictures\\Wall Poster\n",
    "!dir C:\\Users\\Surya\\Pictures\\GitHub\\print_in_A4\\WallPoster"
   ]
  },
  {
   "cell_type": "code",
   "execution_count": 3,
   "metadata": {
    "collapsed": false
   },
   "outputs": [
    {
     "name": "stdout",
     "output_type": "stream",
     "text": [
      "Image shape: (1706, 1200, 3)\n",
      "Recommended parts: 16\n"
     ]
    }
   ],
   "source": [
    "#Print multiple sections\n",
    "img_name = '7 habits'\n",
    "img_path = \"C:\\\\Users\\\\Surya\\\\Pictures\\\\GitHub\\print_in_A4\\\\WallPoster\\\\\"+img_name+\".jpg\"\n",
    "output_path = \"C:\\\\Users\\\\Surya\\\\Pictures\\\\GitHub\\\\print_in_A4\\\\WallPoster\\\\ToPrint\\\\\"\n",
    "no_of_sub_pics = 4\n",
    "\n",
    "img = mpimg.imread(img_path)\n",
    "h,l,d=img.shape\n",
    "print('Image shape:',(h,l,d))\n",
    "print('Recommended parts:',int(math.pow(2,math.log(h*l//(400*250),2)//1)))\n",
    "global j;j=0\n",
    "create_sub_pic(img,no_of_sub_pics,margin=0.01,save_sub_parts=True)"
   ]
  },
  {
   "cell_type": "code",
   "execution_count": 4,
   "metadata": {
    "collapsed": false
   },
   "outputs": [
    {
     "data": {
      "text/plain": [
       "(1896, 1280, 3)"
      ]
     },
     "execution_count": 4,
     "metadata": {},
     "output_type": "execute_result"
    }
   ],
   "source": [
    "mpimg.imread('C:\\\\Users\\\\Surya\\\\Pictures\\\\GitHub\\print_in_A4\\\\WallPoster\\\\TD.png').shape"
   ]
  },
  {
   "cell_type": "code",
   "execution_count": 5,
   "metadata": {
    "collapsed": false
   },
   "outputs": [
    {
     "data": {
      "text/plain": [
       "<matplotlib.image.AxesImage at 0x7cfd208>"
      ]
     },
     "execution_count": 5,
     "metadata": {},
     "output_type": "execute_result"
    },
    {
     "data": {
      "image/png": "[encoded data removed]",
      "text/plain": [
       "<matplotlib.figure.Figure at 0x49a9828>"
      ]
     },
     "metadata": {},
     "output_type": "display_data"
    }
   ],
   "source": [
    "plt.imshow(img)"
   ]
  },
  {
   "cell_type": "code",
   "execution_count": null,
   "metadata": {
    "collapsed": true
   },
   "outputs": [],
   "source": []
  }
 ],
 "metadata": {
  "kernelspec": {
   "display_name": "Python 3",
   "language": "python",
   "name": "python3"
  },
  "language_info": {
   "codemirror_mode": {
    "name": "ipython",
    "version": 3
   },
   "file_extension": ".py",
   "mimetype": "text/x-python",
   "name": "python",
   "nbconvert_exporter": "python",
   "pygments_lexer": "ipython3",
   "version": "3.6.6"
  }
 },
 "nbformat": 4,
 "nbformat_minor": 2
}
